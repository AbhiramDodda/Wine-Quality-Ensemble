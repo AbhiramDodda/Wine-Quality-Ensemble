{
 "cells": [
  {
   "cell_type": "code",
   "execution_count": 1,
   "metadata": {},
   "outputs": [
    {
     "name": "stdout",
     "output_type": "stream",
     "text": [
      "Requirement already satisfied: numpy in c:\\python39\\lib\\site-packages (1.26.4)\n"
     ]
    },
    {
     "name": "stderr",
     "output_type": "stream",
     "text": [
      "\n",
      "[notice] A new release of pip is available: 24.0 -> 24.2\n",
      "[notice] To update, run: python.exe -m pip install --upgrade pip\n"
     ]
    },
    {
     "name": "stdout",
     "output_type": "stream",
     "text": [
      "Requirement already satisfied: pandas in c:\\python39\\lib\\site-packages (1.4.2)\n",
      "Requirement already satisfied: python-dateutil>=2.8.1 in c:\\python39\\lib\\site-packages (from pandas) (2.8.2)\n",
      "Requirement already satisfied: pytz>=2020.1 in c:\\python39\\lib\\site-packages (from pandas) (2024.1)\n",
      "Requirement already satisfied: numpy>=1.18.5 in c:\\python39\\lib\\site-packages (from pandas) (1.26.4)\n",
      "Requirement already satisfied: six>=1.5 in c:\\python39\\lib\\site-packages (from python-dateutil>=2.8.1->pandas) (1.16.0)\n"
     ]
    },
    {
     "name": "stderr",
     "output_type": "stream",
     "text": [
      "\n",
      "[notice] A new release of pip is available: 24.0 -> 24.2\n",
      "[notice] To update, run: python.exe -m pip install --upgrade pip\n"
     ]
    },
    {
     "name": "stdout",
     "output_type": "stream",
     "text": [
      "Requirement already satisfied: matplotlib in c:\\python39\\lib\\site-packages (3.7.0)\n",
      "Requirement already satisfied: contourpy>=1.0.1 in c:\\python39\\lib\\site-packages (from matplotlib) (1.0.7)\n",
      "Requirement already satisfied: cycler>=0.10 in c:\\python39\\lib\\site-packages (from matplotlib) (0.11.0)\n",
      "Requirement already satisfied: fonttools>=4.22.0 in c:\\python39\\lib\\site-packages (from matplotlib) (4.31.2)\n",
      "Requirement already satisfied: kiwisolver>=1.0.1 in c:\\python39\\lib\\site-packages (from matplotlib) (1.4.2)\n",
      "Requirement already satisfied: numpy>=1.20 in c:\\python39\\lib\\site-packages (from matplotlib) (1.26.4)\n",
      "Requirement already satisfied: packaging>=20.0 in c:\\python39\\lib\\site-packages (from matplotlib) (21.3)\n",
      "Requirement already satisfied: pillow>=6.2.0 in c:\\python39\\lib\\site-packages (from matplotlib) (10.3.0)\n",
      "Requirement already satisfied: pyparsing>=2.3.1 in c:\\python39\\lib\\site-packages (from matplotlib) (3.0.7)\n",
      "Requirement already satisfied: python-dateutil>=2.7 in c:\\python39\\lib\\site-packages (from matplotlib) (2.8.2)\n",
      "Requirement already satisfied: importlib-resources>=3.2.0 in c:\\python39\\lib\\site-packages (from matplotlib) (5.12.0)\n",
      "Requirement already satisfied: zipp>=3.1.0 in c:\\python39\\lib\\site-packages (from importlib-resources>=3.2.0->matplotlib) (3.15.0)\n",
      "Requirement already satisfied: six>=1.5 in c:\\python39\\lib\\site-packages (from python-dateutil>=2.7->matplotlib) (1.16.0)\n"
     ]
    },
    {
     "name": "stderr",
     "output_type": "stream",
     "text": [
      "\n",
      "[notice] A new release of pip is available: 24.0 -> 24.2\n",
      "[notice] To update, run: python.exe -m pip install --upgrade pip\n"
     ]
    },
    {
     "name": "stdout",
     "output_type": "stream",
     "text": [
      "Requirement already satisfied: seaborn in c:\\python39\\lib\\site-packages (0.12.2)\n",
      "Requirement already satisfied: numpy!=1.24.0,>=1.17 in c:\\python39\\lib\\site-packages (from seaborn) (1.26.4)\n",
      "Requirement already satisfied: pandas>=0.25 in c:\\python39\\lib\\site-packages (from seaborn) (1.4.2)\n",
      "Requirement already satisfied: matplotlib!=3.6.1,>=3.1 in c:\\python39\\lib\\site-packages (from seaborn) (3.7.0)\n",
      "Requirement already satisfied: contourpy>=1.0.1 in c:\\python39\\lib\\site-packages (from matplotlib!=3.6.1,>=3.1->seaborn) (1.0.7)\n",
      "Requirement already satisfied: cycler>=0.10 in c:\\python39\\lib\\site-packages (from matplotlib!=3.6.1,>=3.1->seaborn) (0.11.0)\n",
      "Requirement already satisfied: fonttools>=4.22.0 in c:\\python39\\lib\\site-packages (from matplotlib!=3.6.1,>=3.1->seaborn) (4.31.2)\n",
      "Requirement already satisfied: kiwisolver>=1.0.1 in c:\\python39\\lib\\site-packages (from matplotlib!=3.6.1,>=3.1->seaborn) (1.4.2)\n",
      "Requirement already satisfied: packaging>=20.0 in c:\\python39\\lib\\site-packages (from matplotlib!=3.6.1,>=3.1->seaborn) (21.3)\n",
      "Requirement already satisfied: pillow>=6.2.0 in c:\\python39\\lib\\site-packages (from matplotlib!=3.6.1,>=3.1->seaborn) (10.3.0)\n",
      "Requirement already satisfied: pyparsing>=2.3.1 in c:\\python39\\lib\\site-packages (from matplotlib!=3.6.1,>=3.1->seaborn) (3.0.7)\n",
      "Requirement already satisfied: python-dateutil>=2.7 in c:\\python39\\lib\\site-packages (from matplotlib!=3.6.1,>=3.1->seaborn) (2.8.2)\n",
      "Requirement already satisfied: importlib-resources>=3.2.0 in c:\\python39\\lib\\site-packages (from matplotlib!=3.6.1,>=3.1->seaborn) (5.12.0)\n",
      "Requirement already satisfied: pytz>=2020.1 in c:\\python39\\lib\\site-packages (from pandas>=0.25->seaborn) (2024.1)\n",
      "Requirement already satisfied: zipp>=3.1.0 in c:\\python39\\lib\\site-packages (from importlib-resources>=3.2.0->matplotlib!=3.6.1,>=3.1->seaborn) (3.15.0)\n",
      "Requirement already satisfied: six>=1.5 in c:\\python39\\lib\\site-packages (from python-dateutil>=2.7->matplotlib!=3.6.1,>=3.1->seaborn) (1.16.0)\n"
     ]
    },
    {
     "name": "stderr",
     "output_type": "stream",
     "text": [
      "\n",
      "[notice] A new release of pip is available: 24.0 -> 24.2\n",
      "[notice] To update, run: python.exe -m pip install --upgrade pip\n"
     ]
    },
    {
     "name": "stdout",
     "output_type": "stream",
     "text": [
      "Requirement already satisfied: sklearn in c:\\python39\\lib\\site-packages (0.0.post1)\n"
     ]
    },
    {
     "name": "stderr",
     "output_type": "stream",
     "text": [
      "\n",
      "[notice] A new release of pip is available: 24.0 -> 24.2\n",
      "[notice] To update, run: python.exe -m pip install --upgrade pip\n"
     ]
    },
    {
     "name": "stdout",
     "output_type": "stream",
     "text": [
      "Requirement already satisfied: tensorflow in c:\\python39\\lib\\site-packages (2.15.0)\n",
      "Requirement already satisfied: tensorflow-intel==2.15.0 in c:\\python39\\lib\\site-packages (from tensorflow) (2.15.0)\n",
      "Requirement already satisfied: absl-py>=1.0.0 in c:\\python39\\lib\\site-packages (from tensorflow-intel==2.15.0->tensorflow) (2.1.0)\n",
      "Requirement already satisfied: astunparse>=1.6.0 in c:\\python39\\lib\\site-packages (from tensorflow-intel==2.15.0->tensorflow) (1.6.3)\n",
      "Requirement already satisfied: flatbuffers>=23.5.26 in c:\\python39\\lib\\site-packages (from tensorflow-intel==2.15.0->tensorflow) (23.5.26)\n",
      "Requirement already satisfied: gast!=0.5.0,!=0.5.1,!=0.5.2,>=0.2.1 in c:\\python39\\lib\\site-packages (from tensorflow-intel==2.15.0->tensorflow) (0.5.4)\n",
      "Requirement already satisfied: google-pasta>=0.1.1 in c:\\python39\\lib\\site-packages (from tensorflow-intel==2.15.0->tensorflow) (0.2.0)\n",
      "Requirement already satisfied: h5py>=2.9.0 in c:\\python39\\lib\\site-packages (from tensorflow-intel==2.15.0->tensorflow) (3.10.0)\n",
      "Requirement already satisfied: libclang>=13.0.0 in c:\\python39\\lib\\site-packages (from tensorflow-intel==2.15.0->tensorflow) (16.0.6)\n",
      "Requirement already satisfied: ml-dtypes~=0.2.0 in c:\\python39\\lib\\site-packages (from tensorflow-intel==2.15.0->tensorflow) (0.2.0)\n",
      "Requirement already satisfied: numpy<2.0.0,>=1.23.5 in c:\\python39\\lib\\site-packages (from tensorflow-intel==2.15.0->tensorflow) (1.26.4)\n",
      "Requirement already satisfied: opt-einsum>=2.3.2 in c:\\python39\\lib\\site-packages (from tensorflow-intel==2.15.0->tensorflow) (3.3.0)\n",
      "Requirement already satisfied: packaging in c:\\python39\\lib\\site-packages (from tensorflow-intel==2.15.0->tensorflow) (21.3)\n",
      "Requirement already satisfied: protobuf!=4.21.0,!=4.21.1,!=4.21.2,!=4.21.3,!=4.21.4,!=4.21.5,<5.0.0dev,>=3.20.3 in c:\\python39\\lib\\site-packages (from tensorflow-intel==2.15.0->tensorflow) (4.25.4)\n",
      "Requirement already satisfied: setuptools in c:\\python39\\lib\\site-packages (from tensorflow-intel==2.15.0->tensorflow) (69.5.1)\n",
      "Requirement already satisfied: six>=1.12.0 in c:\\python39\\lib\\site-packages (from tensorflow-intel==2.15.0->tensorflow) (1.16.0)\n",
      "Requirement already satisfied: termcolor>=1.1.0 in c:\\python39\\lib\\site-packages (from tensorflow-intel==2.15.0->tensorflow) (2.4.0)\n",
      "Requirement already satisfied: typing-extensions>=3.6.6 in c:\\python39\\lib\\site-packages (from tensorflow-intel==2.15.0->tensorflow) (4.10.0)\n",
      "Requirement already satisfied: wrapt<1.15,>=1.11.0 in c:\\python39\\lib\\site-packages (from tensorflow-intel==2.15.0->tensorflow) (1.14.1)\n",
      "Requirement already satisfied: tensorflow-io-gcs-filesystem>=0.23.1 in c:\\python39\\lib\\site-packages (from tensorflow-intel==2.15.0->tensorflow) (0.31.0)\n",
      "Requirement already satisfied: grpcio<2.0,>=1.24.3 in c:\\python39\\lib\\site-packages (from tensorflow-intel==2.15.0->tensorflow) (1.62.0)\n",
      "Requirement already satisfied: tensorboard<2.16,>=2.15 in c:\\python39\\lib\\site-packages (from tensorflow-intel==2.15.0->tensorflow) (2.15.2)\n",
      "Requirement already satisfied: tensorflow-estimator<2.16,>=2.15.0 in c:\\python39\\lib\\site-packages (from tensorflow-intel==2.15.0->tensorflow) (2.15.0)\n",
      "Requirement already satisfied: keras<2.16,>=2.15.0 in c:\\python39\\lib\\site-packages (from tensorflow-intel==2.15.0->tensorflow) (2.15.0)\n",
      "Requirement already satisfied: wheel<1.0,>=0.23.0 in c:\\python39\\lib\\site-packages (from astunparse>=1.6.0->tensorflow-intel==2.15.0->tensorflow) (0.42.0)\n",
      "Requirement already satisfied: google-auth<3,>=1.6.3 in c:\\python39\\lib\\site-packages (from tensorboard<2.16,>=2.15->tensorflow-intel==2.15.0->tensorflow) (2.28.1)\n",
      "Requirement already satisfied: google-auth-oauthlib<2,>=0.5 in c:\\python39\\lib\\site-packages (from tensorboard<2.16,>=2.15->tensorflow-intel==2.15.0->tensorflow) (1.2.0)\n",
      "Requirement already satisfied: markdown>=2.6.8 in c:\\python39\\lib\\site-packages (from tensorboard<2.16,>=2.15->tensorflow-intel==2.15.0->tensorflow) (3.5.2)\n",
      "Requirement already satisfied: requests<3,>=2.21.0 in c:\\python39\\lib\\site-packages (from tensorboard<2.16,>=2.15->tensorflow-intel==2.15.0->tensorflow) (2.32.3)\n",
      "Requirement already satisfied: tensorboard-data-server<0.8.0,>=0.7.0 in c:\\python39\\lib\\site-packages (from tensorboard<2.16,>=2.15->tensorflow-intel==2.15.0->tensorflow) (0.7.2)\n",
      "Requirement already satisfied: werkzeug>=1.0.1 in c:\\python39\\lib\\site-packages (from tensorboard<2.16,>=2.15->tensorflow-intel==2.15.0->tensorflow) (3.0.1)\n",
      "Requirement already satisfied: pyparsing!=3.0.5,>=2.0.2 in c:\\python39\\lib\\site-packages (from packaging->tensorflow-intel==2.15.0->tensorflow) (3.0.7)\n",
      "Requirement already satisfied: cachetools<6.0,>=2.0.0 in c:\\python39\\lib\\site-packages (from google-auth<3,>=1.6.3->tensorboard<2.16,>=2.15->tensorflow-intel==2.15.0->tensorflow) (5.3.3)\n",
      "Requirement already satisfied: pyasn1-modules>=0.2.1 in c:\\python39\\lib\\site-packages (from google-auth<3,>=1.6.3->tensorboard<2.16,>=2.15->tensorflow-intel==2.15.0->tensorflow) (0.3.0)\n",
      "Requirement already satisfied: rsa<5,>=3.1.4 in c:\\python39\\lib\\site-packages (from google-auth<3,>=1.6.3->tensorboard<2.16,>=2.15->tensorflow-intel==2.15.0->tensorflow) (4.9)\n",
      "Requirement already satisfied: requests-oauthlib>=0.7.0 in c:\\python39\\lib\\site-packages (from google-auth-oauthlib<2,>=0.5->tensorboard<2.16,>=2.15->tensorflow-intel==2.15.0->tensorflow) (1.3.1)\n",
      "Requirement already satisfied: importlib-metadata>=4.4 in c:\\python39\\lib\\site-packages (from markdown>=2.6.8->tensorboard<2.16,>=2.15->tensorflow-intel==2.15.0->tensorflow) (7.0.1)\n",
      "Requirement already satisfied: charset-normalizer<4,>=2 in c:\\python39\\lib\\site-packages (from requests<3,>=2.21.0->tensorboard<2.16,>=2.15->tensorflow-intel==2.15.0->tensorflow) (2.0.12)\n",
      "Requirement already satisfied: idna<4,>=2.5 in c:\\python39\\lib\\site-packages (from requests<3,>=2.21.0->tensorboard<2.16,>=2.15->tensorflow-intel==2.15.0->tensorflow) (3.3)\n",
      "Requirement already satisfied: urllib3<3,>=1.21.1 in c:\\python39\\lib\\site-packages (from requests<3,>=2.21.0->tensorboard<2.16,>=2.15->tensorflow-intel==2.15.0->tensorflow) (1.26.9)\n",
      "Requirement already satisfied: certifi>=2017.4.17 in c:\\python39\\lib\\site-packages (from requests<3,>=2.21.0->tensorboard<2.16,>=2.15->tensorflow-intel==2.15.0->tensorflow) (2021.10.8)\n",
      "Requirement already satisfied: MarkupSafe>=2.1.1 in c:\\python39\\lib\\site-packages (from werkzeug>=1.0.1->tensorboard<2.16,>=2.15->tensorflow-intel==2.15.0->tensorflow) (2.1.1)\n",
      "Requirement already satisfied: zipp>=0.5 in c:\\python39\\lib\\site-packages (from importlib-metadata>=4.4->markdown>=2.6.8->tensorboard<2.16,>=2.15->tensorflow-intel==2.15.0->tensorflow) (3.15.0)\n",
      "Requirement already satisfied: pyasn1<0.6.0,>=0.4.6 in c:\\python39\\lib\\site-packages (from pyasn1-modules>=0.2.1->google-auth<3,>=1.6.3->tensorboard<2.16,>=2.15->tensorflow-intel==2.15.0->tensorflow) (0.5.1)\n",
      "Requirement already satisfied: oauthlib>=3.0.0 in c:\\python39\\lib\\site-packages (from requests-oauthlib>=0.7.0->google-auth-oauthlib<2,>=0.5->tensorboard<2.16,>=2.15->tensorflow-intel==2.15.0->tensorflow) (3.2.2)\n"
     ]
    },
    {
     "name": "stderr",
     "output_type": "stream",
     "text": [
      "\n",
      "[notice] A new release of pip is available: 24.0 -> 24.2\n",
      "[notice] To update, run: python.exe -m pip install --upgrade pip\n"
     ]
    },
    {
     "name": "stdout",
     "output_type": "stream",
     "text": [
      "Requirement already satisfied: keras-tuner in c:\\python39\\lib\\site-packages (1.4.7)\n",
      "Requirement already satisfied: keras in c:\\python39\\lib\\site-packages (from keras-tuner) (2.15.0)\n",
      "Requirement already satisfied: packaging in c:\\python39\\lib\\site-packages (from keras-tuner) (21.3)\n",
      "Requirement already satisfied: requests in c:\\python39\\lib\\site-packages (from keras-tuner) (2.32.3)\n",
      "Requirement already satisfied: kt-legacy in c:\\python39\\lib\\site-packages (from keras-tuner) (1.0.5)\n",
      "Requirement already satisfied: pyparsing!=3.0.5,>=2.0.2 in c:\\python39\\lib\\site-packages (from packaging->keras-tuner) (3.0.7)\n",
      "Requirement already satisfied: charset-normalizer<4,>=2 in c:\\python39\\lib\\site-packages (from requests->keras-tuner) (2.0.12)\n",
      "Requirement already satisfied: idna<4,>=2.5 in c:\\python39\\lib\\site-packages (from requests->keras-tuner) (3.3)\n",
      "Requirement already satisfied: urllib3<3,>=1.21.1 in c:\\python39\\lib\\site-packages (from requests->keras-tuner) (1.26.9)\n",
      "Requirement already satisfied: certifi>=2017.4.17 in c:\\python39\\lib\\site-packages (from requests->keras-tuner) (2021.10.8)\n"
     ]
    },
    {
     "name": "stderr",
     "output_type": "stream",
     "text": [
      "\n",
      "[notice] A new release of pip is available: 24.0 -> 24.2\n",
      "[notice] To update, run: python.exe -m pip install --upgrade pip\n"
     ]
    }
   ],
   "source": [
    "!pip install numpy \n",
    "!pip install pandas\n",
    "!pip install matplotlib \n",
    "!pip install seaborn \n",
    "!pip install sklearn\n",
    "!pip install tensorflow\n",
    "!pip install keras-tuner"
   ]
  },
  {
   "cell_type": "code",
   "execution_count": 2,
   "metadata": {},
   "outputs": [
    {
     "name": "stdout",
     "output_type": "stream",
     "text": [
      "WARNING:tensorflow:From c:\\Python39\\lib\\site-packages\\keras\\src\\losses.py:2976: The name tf.losses.sparse_softmax_cross_entropy is deprecated. Please use tf.compat.v1.losses.sparse_softmax_cross_entropy instead.\n",
      "\n"
     ]
    }
   ],
   "source": [
    "import numpy as np\n",
    "import pandas as pd\n",
    "import matplotlib.pyplot as plt\n",
    "import seaborn as sns\n",
    "from sklearn.model_selection import train_test_split, GridSearchCV\n",
    "from sklearn.metrics import accuracy_score, classification_report\n",
    "from sklearn.ensemble import RandomForestClassifier, StackingClassifier, GradientBoostingClassifier\n",
    "from sklearn.preprocessing import StandardScaler\n",
    "from tensorflow.keras.models import Sequential\n",
    "from tensorflow.keras.layers import Dense\n",
    "from tensorflow.keras.utils import to_categorical\n",
    "from sklearn.svm import SVC\n",
    "import keras_tuner as kt\n",
    "from sklearn.linear_model import LogisticRegression"
   ]
  },
  {
   "cell_type": "code",
   "execution_count": 3,
   "metadata": {},
   "outputs": [],
   "source": [
    "wine_ds = pd.read_csv('WQ_Dataset.csv')"
   ]
  },
  {
   "cell_type": "code",
   "execution_count": 4,
   "metadata": {},
   "outputs": [],
   "source": [
    "x = wine_ds.drop(\"quality\", axis=1)\n",
    "y = wine_ds[\"quality\"].apply(lambda y_value: \"perfect\" if y_value == 10 else (\"good\" if (y_value >= 7 and y_value < 10) else (\"average\" if (y_value >= 5 and y_value < 7) else (\"bad\" if (y_value >= 3 and y_value < 5) else \"inedible\"))))"
   ]
  },
  {
   "cell_type": "code",
   "execution_count": 5,
   "metadata": {},
   "outputs": [],
   "source": [
    "y = pd.factorize(y)[0]\n",
    "num_classes = len(np.unique(y))\n",
    "y = to_categorical(y, num_classes = num_classes)"
   ]
  },
  {
   "cell_type": "code",
   "execution_count": 6,
   "metadata": {},
   "outputs": [],
   "source": [
    "x_train, x_test, y_train, y_test = train_test_split(x, y, test_size=0.2, random_state=5)"
   ]
  },
  {
   "cell_type": "code",
   "execution_count": 7,
   "metadata": {},
   "outputs": [],
   "source": [
    "scaler = StandardScaler()\n",
    "x_train = scaler.fit_transform(x_train)\n",
    "x_test = scaler.transform(x_test)"
   ]
  },
  {
   "cell_type": "code",
   "execution_count": 8,
   "metadata": {},
   "outputs": [],
   "source": [
    "param_grid_log_reg = {\n",
    "    'C': [0.1, 1, 10],\n",
    "    'penalty': ['l2'],\n",
    "    'solver': ['lbfgs', 'liblinear']\n",
    "}"
   ]
  },
  {
   "cell_type": "code",
   "execution_count": 9,
   "metadata": {},
   "outputs": [],
   "source": [
    "log_reg = LogisticRegression(random_state=5, multi_class='ovr')\n",
    "\n",
    "grid_search_log_reg = GridSearchCV(estimator=log_reg, param_grid=param_grid_log_reg, cv=5, n_jobs=-1, scoring='accuracy')\n",
    "grid_search_log_reg.fit(x_train, np.argmax(y_train, axis=1))\n",
    "best_log_reg = grid_search_log_reg.best_estimator_"
   ]
  },
  {
   "cell_type": "code",
   "execution_count": 10,
   "metadata": {},
   "outputs": [
    {
     "name": "stdout",
     "output_type": "stream",
     "text": [
      "Parameters for Logistic Regression: {'C': 1, 'penalty': 'l2', 'solver': 'lbfgs'}\n",
      "Score for Logistic Regression: 0.8365962009803921\n"
     ]
    }
   ],
   "source": [
    "print(\"Parameters for Logistic Regression:\", grid_search_log_reg.best_params_)\n",
    "print(\"Score for Logistic Regression:\", grid_search_log_reg.best_score_)"
   ]
  },
  {
   "cell_type": "code",
   "execution_count": 11,
   "metadata": {},
   "outputs": [],
   "source": [
    "param_grid_rf = {\n",
    "    'n_estimators': [50, 100, 200],\n",
    "    'max_depth': [None, 10, 20],\n",
    "    'min_samples_split': [2, 5, 10]\n",
    "}"
   ]
  },
  {
   "cell_type": "code",
   "execution_count": 12,
   "metadata": {},
   "outputs": [],
   "source": [
    "rf = RandomForestClassifier(random_state=5)\n",
    "rf = RandomForestClassifier(random_state=5)\n",
    "grid_search_rf = GridSearchCV(estimator=rf, param_grid=param_grid_rf, cv=5, n_jobs=-1, scoring='accuracy')\n",
    "grid_search_rf.fit(x_train, np.argmax(y_train, axis=1))\n",
    "best_rf = grid_search_rf.best_estimator_"
   ]
  },
  {
   "cell_type": "code",
   "execution_count": 13,
   "metadata": {},
   "outputs": [
    {
     "name": "stdout",
     "output_type": "stream",
     "text": [
      "Parameters for Random Forest: {'max_depth': 20, 'min_samples_split': 2, 'n_estimators': 100}\n",
      "Score for Random Forest: 0.8670833333333334\n"
     ]
    }
   ],
   "source": [
    "print(\"Parameters for Random Forest:\", grid_search_rf.best_params_)\n",
    "print(\"Score for Random Forest:\", grid_search_rf.best_score_)"
   ]
  },
  {
   "cell_type": "code",
   "execution_count": 14,
   "metadata": {},
   "outputs": [],
   "source": [
    "param_grid_gbm = {\n",
    "    'n_estimators': [50, 100, 200],\n",
    "    'learning_rate': [0.01, 0.1, 0.2],\n",
    "    'max_depth': [3, 5, 7]\n",
    "}"
   ]
  },
  {
   "cell_type": "code",
   "execution_count": 15,
   "metadata": {},
   "outputs": [],
   "source": [
    "gbm = GradientBoostingClassifier(random_state=5)\n",
    "grid_search_gbm = GridSearchCV(estimator=gbm, param_grid=param_grid_gbm, cv=5, n_jobs=-1, scoring='accuracy')\n",
    "grid_search_gbm.fit(x_train, np.argmax(y_train, axis=1))\n",
    "best_gbm = grid_search_gbm.best_estimator_"
   ]
  },
  {
   "cell_type": "code",
   "execution_count": 16,
   "metadata": {},
   "outputs": [
    {
     "name": "stdout",
     "output_type": "stream",
     "text": [
      "Parameters for GBM: {'learning_rate': 0.1, 'max_depth': 5, 'n_estimators': 100}\n",
      "Score for GBM: 0.8717769607843138\n"
     ]
    }
   ],
   "source": [
    "print(\"Parameters for GBM:\", grid_search_gbm.best_params_)\n",
    "print(\"Score for GBM:\", grid_search_gbm.best_score_)"
   ]
  },
  {
   "cell_type": "code",
   "execution_count": 17,
   "metadata": {},
   "outputs": [],
   "source": [
    "param_grid_svm = {\n",
    "    'C': [0.1, 1, 10],\n",
    "    'kernel': ['linear', 'rbf'],\n",
    "    'gamma': ['scale', 'auto']\n",
    "}"
   ]
  },
  {
   "cell_type": "code",
   "execution_count": 18,
   "metadata": {},
   "outputs": [],
   "source": [
    "svm = SVC(probability=True, random_state=5)\n",
    "grid_search_svm = GridSearchCV(estimator=svm, param_grid=param_grid_svm, cv=5, n_jobs=-1, scoring='accuracy')\n",
    "grid_search_svm.fit(x_train, np.argmax(y_train, axis=1))\n",
    "best_svm = grid_search_svm.best_estimator_"
   ]
  },
  {
   "cell_type": "code",
   "execution_count": 19,
   "metadata": {},
   "outputs": [
    {
     "name": "stdout",
     "output_type": "stream",
     "text": [
      "Parameters for SVM: {'C': 10, 'gamma': 'scale', 'kernel': 'rbf'}\n",
      "Score for SVM: 0.8451838235294117\n"
     ]
    }
   ],
   "source": [
    "print(\"Parameters for SVM:\", grid_search_svm.best_params_)\n",
    "print(\"Score for SVM:\", grid_search_svm.best_score_)"
   ]
  },
  {
   "cell_type": "code",
   "execution_count": 20,
   "metadata": {},
   "outputs": [],
   "source": [
    "log_reg_train_preds = best_log_reg.predict_proba(x_train)\n",
    "log_reg_test_preds = best_log_reg.predict_proba(x_test)"
   ]
  },
  {
   "cell_type": "code",
   "execution_count": 21,
   "metadata": {},
   "outputs": [],
   "source": [
    "rf_train_preds = best_rf.predict_proba(x_train)\n",
    "gbm_train_preds = best_gbm.predict_proba(x_train)\n",
    "svm_train_preds = best_svm.predict_proba(x_train)"
   ]
  },
  {
   "cell_type": "code",
   "execution_count": 22,
   "metadata": {},
   "outputs": [],
   "source": [
    "rf_test_preds = best_rf.predict_proba(x_test)\n",
    "gbm_test_preds = best_gbm.predict_proba(x_test)\n",
    "svm_test_preds = best_svm.predict_proba(x_test)"
   ]
  },
  {
   "cell_type": "code",
   "execution_count": 23,
   "metadata": {},
   "outputs": [],
   "source": [
    "x_train_stack = np.hstack((rf_train_preds, gbm_train_preds, svm_train_preds, log_reg_train_preds))\n",
    "x_test_stack = np.hstack((rf_test_preds, gbm_test_preds, svm_test_preds, log_reg_test_preds))"
   ]
  },
  {
   "cell_type": "code",
   "execution_count": 24,
   "metadata": {},
   "outputs": [],
   "source": [
    "def create_meta_nn_model(input_dim):\n",
    "    model = Sequential()\n",
    "    model.add(Dense(32, input_dim=input_dim, activation='relu'))\n",
    "    model.add(Dense(16, activation='relu'))\n",
    "    model.add(Dense(num_classes, activation='softmax'))\n",
    "    model.compile(optimizer='adam', loss='categorical_crossentropy', metrics=['accuracy'])\n",
    "    return model"
   ]
  },
  {
   "cell_type": "code",
   "execution_count": 25,
   "metadata": {},
   "outputs": [
    {
     "name": "stdout",
     "output_type": "stream",
     "text": [
      "WARNING:tensorflow:From c:\\Python39\\lib\\site-packages\\keras\\src\\backend.py:873: The name tf.get_default_graph is deprecated. Please use tf.compat.v1.get_default_graph instead.\n",
      "\n",
      "WARNING:tensorflow:From c:\\Python39\\lib\\site-packages\\keras\\src\\optimizers\\__init__.py:309: The name tf.train.Optimizer is deprecated. Please use tf.compat.v1.train.Optimizer instead.\n",
      "\n",
      "Epoch 1/100\n",
      "WARNING:tensorflow:From c:\\Python39\\lib\\site-packages\\keras\\src\\utils\\tf_utils.py:492: The name tf.ragged.RaggedTensorValue is deprecated. Please use tf.compat.v1.ragged.RaggedTensorValue instead.\n",
      "\n",
      "WARNING:tensorflow:From c:\\Python39\\lib\\site-packages\\keras\\src\\engine\\base_layer_utils.py:384: The name tf.executing_eagerly_outside_functions is deprecated. Please use tf.compat.v1.executing_eagerly_outside_functions instead.\n",
      "\n",
      "128/128 [==============================] - 1s 1ms/step - loss: 0.6246 - accuracy: 0.7748\n",
      "Epoch 2/100\n",
      "128/128 [==============================] - 0s 1ms/step - loss: 0.1097 - accuracy: 0.9586\n",
      "Epoch 3/100\n",
      "128/128 [==============================] - 0s 1ms/step - loss: 0.0356 - accuracy: 0.9945\n",
      "Epoch 4/100\n",
      "128/128 [==============================] - 0s 1ms/step - loss: 0.0106 - accuracy: 1.0000\n",
      "Epoch 5/100\n",
      "128/128 [==============================] - 0s 1ms/step - loss: 0.0042 - accuracy: 1.0000\n",
      "Epoch 6/100\n",
      "128/128 [==============================] - 0s 1ms/step - loss: 0.0023 - accuracy: 1.0000\n",
      "Epoch 7/100\n",
      "128/128 [==============================] - 0s 2ms/step - loss: 0.0014 - accuracy: 1.0000\n",
      "Epoch 8/100\n",
      "128/128 [==============================] - 0s 1ms/step - loss: 9.6157e-04 - accuracy: 1.0000\n",
      "Epoch 9/100\n",
      "128/128 [==============================] - 0s 2ms/step - loss: 6.8061e-04 - accuracy: 1.0000\n",
      "Epoch 10/100\n",
      "128/128 [==============================] - 0s 2ms/step - loss: 5.0552e-04 - accuracy: 1.0000\n",
      "Epoch 11/100\n",
      "128/128 [==============================] - 0s 2ms/step - loss: 3.8863e-04 - accuracy: 1.0000\n",
      "Epoch 12/100\n",
      "128/128 [==============================] - 0s 1ms/step - loss: 3.0457e-04 - accuracy: 1.0000\n",
      "Epoch 13/100\n",
      "128/128 [==============================] - 0s 2ms/step - loss: 2.4454e-04 - accuracy: 1.0000\n",
      "Epoch 14/100\n",
      "128/128 [==============================] - 0s 1ms/step - loss: 2.0070e-04 - accuracy: 1.0000\n",
      "Epoch 15/100\n",
      "128/128 [==============================] - 0s 1ms/step - loss: 1.6609e-04 - accuracy: 1.0000\n",
      "Epoch 16/100\n",
      "128/128 [==============================] - 0s 1ms/step - loss: 1.3972e-04 - accuracy: 1.0000\n",
      "Epoch 17/100\n",
      "128/128 [==============================] - 0s 1ms/step - loss: 1.1875e-04 - accuracy: 1.0000\n",
      "Epoch 18/100\n",
      "128/128 [==============================] - 0s 1ms/step - loss: 1.0148e-04 - accuracy: 1.0000\n",
      "Epoch 19/100\n",
      "128/128 [==============================] - 0s 2ms/step - loss: 8.7570e-05 - accuracy: 1.0000\n",
      "Epoch 20/100\n",
      "128/128 [==============================] - 0s 2ms/step - loss: 7.5938e-05 - accuracy: 1.0000\n",
      "Epoch 21/100\n",
      "128/128 [==============================] - 0s 2ms/step - loss: 6.6298e-05 - accuracy: 1.0000\n",
      "Epoch 22/100\n",
      "128/128 [==============================] - 0s 2ms/step - loss: 5.8114e-05 - accuracy: 1.0000\n",
      "Epoch 23/100\n",
      "128/128 [==============================] - 0s 1ms/step - loss: 5.1295e-05 - accuracy: 1.0000\n",
      "Epoch 24/100\n",
      "128/128 [==============================] - 0s 2ms/step - loss: 4.5475e-05 - accuracy: 1.0000\n",
      "Epoch 25/100\n",
      "128/128 [==============================] - 0s 2ms/step - loss: 4.0401e-05 - accuracy: 1.0000\n",
      "Epoch 26/100\n",
      "128/128 [==============================] - 0s 2ms/step - loss: 3.5951e-05 - accuracy: 1.0000\n",
      "Epoch 27/100\n",
      "128/128 [==============================] - 0s 1ms/step - loss: 3.2147e-05 - accuracy: 1.0000\n",
      "Epoch 28/100\n",
      "128/128 [==============================] - 0s 1ms/step - loss: 2.8841e-05 - accuracy: 1.0000\n",
      "Epoch 29/100\n",
      "128/128 [==============================] - 0s 1ms/step - loss: 2.5974e-05 - accuracy: 1.0000\n",
      "Epoch 30/100\n",
      "128/128 [==============================] - 0s 2ms/step - loss: 2.3244e-05 - accuracy: 1.0000\n",
      "Epoch 31/100\n",
      "128/128 [==============================] - 0s 2ms/step - loss: 2.1160e-05 - accuracy: 1.0000\n",
      "Epoch 32/100\n",
      "128/128 [==============================] - 0s 1ms/step - loss: 1.9014e-05 - accuracy: 1.0000\n",
      "Epoch 33/100\n",
      "128/128 [==============================] - 0s 1ms/step - loss: 1.7103e-05 - accuracy: 1.0000\n",
      "Epoch 34/100\n",
      "128/128 [==============================] - 0s 1ms/step - loss: 1.5649e-05 - accuracy: 1.0000\n",
      "Epoch 35/100\n",
      "128/128 [==============================] - 0s 1ms/step - loss: 1.4162e-05 - accuracy: 1.0000\n",
      "Epoch 36/100\n",
      "128/128 [==============================] - 0s 1ms/step - loss: 1.2905e-05 - accuracy: 1.0000\n",
      "Epoch 37/100\n",
      "128/128 [==============================] - 0s 1ms/step - loss: 1.1728e-05 - accuracy: 1.0000\n",
      "Epoch 38/100\n",
      "128/128 [==============================] - 0s 1ms/step - loss: 1.0701e-05 - accuracy: 1.0000\n",
      "Epoch 39/100\n",
      "128/128 [==============================] - 0s 1ms/step - loss: 9.7870e-06 - accuracy: 1.0000\n",
      "Epoch 40/100\n",
      "128/128 [==============================] - 0s 2ms/step - loss: 8.9171e-06 - accuracy: 1.0000\n",
      "Epoch 41/100\n",
      "128/128 [==============================] - 0s 1ms/step - loss: 8.1468e-06 - accuracy: 1.0000\n",
      "Epoch 42/100\n",
      "128/128 [==============================] - 0s 1ms/step - loss: 7.4821e-06 - accuracy: 1.0000\n",
      "Epoch 43/100\n",
      "128/128 [==============================] - 0s 2ms/step - loss: 6.8455e-06 - accuracy: 1.0000\n",
      "Epoch 44/100\n",
      "128/128 [==============================] - 0s 1ms/step - loss: 6.2933e-06 - accuracy: 1.0000\n",
      "Epoch 45/100\n",
      "128/128 [==============================] - 0s 1ms/step - loss: 5.7577e-06 - accuracy: 1.0000\n",
      "Epoch 46/100\n",
      "128/128 [==============================] - 0s 2ms/step - loss: 5.2915e-06 - accuracy: 1.0000\n",
      "Epoch 47/100\n",
      "128/128 [==============================] - 0s 1ms/step - loss: 4.8767e-06 - accuracy: 1.0000\n",
      "Epoch 48/100\n",
      "128/128 [==============================] - 0s 2ms/step - loss: 4.4812e-06 - accuracy: 1.0000\n",
      "Epoch 49/100\n",
      "128/128 [==============================] - 0s 2ms/step - loss: 4.1320e-06 - accuracy: 1.0000\n",
      "Epoch 50/100\n",
      "128/128 [==============================] - 0s 2ms/step - loss: 3.8225e-06 - accuracy: 1.0000\n",
      "Epoch 51/100\n",
      "128/128 [==============================] - 0s 2ms/step - loss: 3.5046e-06 - accuracy: 1.0000\n",
      "Epoch 52/100\n",
      "128/128 [==============================] - 0s 2ms/step - loss: 3.2215e-06 - accuracy: 1.0000\n",
      "Epoch 53/100\n",
      "128/128 [==============================] - 0s 2ms/step - loss: 2.9647e-06 - accuracy: 1.0000\n",
      "Epoch 54/100\n",
      "128/128 [==============================] - 0s 2ms/step - loss: 2.7400e-06 - accuracy: 1.0000\n",
      "Epoch 55/100\n",
      "128/128 [==============================] - 0s 2ms/step - loss: 2.5507e-06 - accuracy: 1.0000\n",
      "Epoch 56/100\n",
      "128/128 [==============================] - 0s 2ms/step - loss: 2.3582e-06 - accuracy: 1.0000\n",
      "Epoch 57/100\n",
      "128/128 [==============================] - 0s 1ms/step - loss: 2.1857e-06 - accuracy: 1.0000\n",
      "Epoch 58/100\n",
      "128/128 [==============================] - 0s 2ms/step - loss: 2.0124e-06 - accuracy: 1.0000\n",
      "Epoch 59/100\n",
      "128/128 [==============================] - 0s 1ms/step - loss: 1.8577e-06 - accuracy: 1.0000\n",
      "Epoch 60/100\n",
      "128/128 [==============================] - 0s 2ms/step - loss: 1.7135e-06 - accuracy: 1.0000\n",
      "Epoch 61/100\n",
      "128/128 [==============================] - 0s 1ms/step - loss: 1.5812e-06 - accuracy: 1.0000\n",
      "Epoch 62/100\n",
      "128/128 [==============================] - 0s 1ms/step - loss: 1.4730e-06 - accuracy: 1.0000\n",
      "Epoch 63/100\n",
      "128/128 [==============================] - 0s 2ms/step - loss: 1.3682e-06 - accuracy: 1.0000\n",
      "Epoch 64/100\n",
      "128/128 [==============================] - 0s 2ms/step - loss: 1.2610e-06 - accuracy: 1.0000\n",
      "Epoch 65/100\n",
      "128/128 [==============================] - 0s 2ms/step - loss: 1.1722e-06 - accuracy: 1.0000\n",
      "Epoch 66/100\n",
      "128/128 [==============================] - 0s 1ms/step - loss: 1.0939e-06 - accuracy: 1.0000\n",
      "Epoch 67/100\n",
      "128/128 [==============================] - 0s 1ms/step - loss: 1.0167e-06 - accuracy: 1.0000\n",
      "Epoch 68/100\n",
      "128/128 [==============================] - 0s 1ms/step - loss: 9.4937e-07 - accuracy: 1.0000\n",
      "Epoch 69/100\n",
      "128/128 [==============================] - 0s 1ms/step - loss: 8.9363e-07 - accuracy: 1.0000\n",
      "Epoch 70/100\n",
      "128/128 [==============================] - 0s 2ms/step - loss: 8.3054e-07 - accuracy: 1.0000\n",
      "Epoch 71/100\n",
      "128/128 [==============================] - 0s 2ms/step - loss: 7.6343e-07 - accuracy: 1.0000\n",
      "Epoch 72/100\n",
      "128/128 [==============================] - 0s 2ms/step - loss: 6.8934e-07 - accuracy: 1.0000\n",
      "Epoch 73/100\n",
      "128/128 [==============================] - 0s 2ms/step - loss: 6.2996e-07 - accuracy: 1.0000\n",
      "Epoch 74/100\n",
      "128/128 [==============================] - 0s 1ms/step - loss: 5.8103e-07 - accuracy: 1.0000\n",
      "Epoch 75/100\n",
      "128/128 [==============================] - 0s 1ms/step - loss: 5.3406e-07 - accuracy: 1.0000\n",
      "Epoch 76/100\n",
      "128/128 [==============================] - 0s 1ms/step - loss: 4.9426e-07 - accuracy: 1.0000\n",
      "Epoch 77/100\n",
      "128/128 [==============================] - 0s 1ms/step - loss: 4.6080e-07 - accuracy: 1.0000\n",
      "Epoch 78/100\n",
      "128/128 [==============================] - 0s 1ms/step - loss: 4.2874e-07 - accuracy: 1.0000\n",
      "Epoch 79/100\n",
      "128/128 [==============================] - 0s 1ms/step - loss: 3.9761e-07 - accuracy: 1.0000\n",
      "Epoch 80/100\n",
      "128/128 [==============================] - 0s 2ms/step - loss: 3.7412e-07 - accuracy: 1.0000\n",
      "Epoch 81/100\n",
      "128/128 [==============================] - 0s 2ms/step - loss: 3.4765e-07 - accuracy: 1.0000\n",
      "Epoch 82/100\n",
      "128/128 [==============================] - 0s 1ms/step - loss: 3.3097e-07 - accuracy: 1.0000\n",
      "Epoch 83/100\n",
      "128/128 [==============================] - 0s 1ms/step - loss: 3.0841e-07 - accuracy: 1.0000\n",
      "Epoch 84/100\n",
      "128/128 [==============================] - 0s 2ms/step - loss: 2.8912e-07 - accuracy: 1.0000\n",
      "Epoch 85/100\n",
      "128/128 [==============================] - 0s 2ms/step - loss: 2.6470e-07 - accuracy: 1.0000\n",
      "Epoch 86/100\n",
      "128/128 [==============================] - 0s 2ms/step - loss: 2.4326e-07 - accuracy: 1.0000\n",
      "Epoch 87/100\n",
      "128/128 [==============================] - 0s 1ms/step - loss: 2.1847e-07 - accuracy: 1.0000\n",
      "Epoch 88/100\n",
      "128/128 [==============================] - 0s 1ms/step - loss: 1.9433e-07 - accuracy: 1.0000\n",
      "Epoch 89/100\n",
      "128/128 [==============================] - 0s 2ms/step - loss: 1.7597e-07 - accuracy: 1.0000\n",
      "Epoch 90/100\n",
      "128/128 [==============================] - 0s 2ms/step - loss: 1.5770e-07 - accuracy: 1.0000\n",
      "Epoch 91/100\n",
      "128/128 [==============================] - 0s 1ms/step - loss: 1.4270e-07 - accuracy: 1.0000\n",
      "Epoch 92/100\n",
      "128/128 [==============================] - 0s 1ms/step - loss: 1.3058e-07 - accuracy: 1.0000\n",
      "Epoch 93/100\n",
      "128/128 [==============================] - 0s 1ms/step - loss: 1.2023e-07 - accuracy: 1.0000\n",
      "Epoch 94/100\n",
      "128/128 [==============================] - 0s 1ms/step - loss: 1.1175e-07 - accuracy: 1.0000\n",
      "Epoch 95/100\n",
      "128/128 [==============================] - 0s 1ms/step - loss: 1.0215e-07 - accuracy: 1.0000\n",
      "Epoch 96/100\n",
      "128/128 [==============================] - 0s 1ms/step - loss: 9.4137e-08 - accuracy: 1.0000\n",
      "Epoch 97/100\n",
      "128/128 [==============================] - 0s 1ms/step - loss: 8.5935e-08 - accuracy: 1.0000\n",
      "Epoch 98/100\n",
      "128/128 [==============================] - 0s 1ms/step - loss: 7.9131e-08 - accuracy: 1.0000\n",
      "Epoch 99/100\n",
      "128/128 [==============================] - 0s 1ms/step - loss: 7.3725e-08 - accuracy: 1.0000\n",
      "Epoch 100/100\n",
      "128/128 [==============================] - 0s 2ms/step - loss: 6.8040e-08 - accuracy: 1.0000\n"
     ]
    },
    {
     "data": {
      "text/plain": [
       "<keras.src.callbacks.History at 0x261c2cdfeb0>"
      ]
     },
     "execution_count": 25,
     "metadata": {},
     "output_type": "execute_result"
    }
   ],
   "source": [
    "meta_nn_model = create_meta_nn_model(x_train_stack.shape[1])\n",
    "meta_nn_model.fit(x_train_stack, y_train, epochs=100, batch_size=10, verbose=1)"
   ]
  },
  {
   "cell_type": "code",
   "execution_count": 26,
   "metadata": {},
   "outputs": [
    {
     "name": "stdout",
     "output_type": "stream",
     "text": [
      "10/10 [==============================] - 0s 2ms/step\n"
     ]
    }
   ],
   "source": [
    "y_pred_stack = meta_nn_model.predict(x_test_stack)\n",
    "y_pred_stack = np.argmax(y_pred_stack, axis=1)"
   ]
  },
  {
   "cell_type": "code",
   "execution_count": 27,
   "metadata": {},
   "outputs": [
    {
     "name": "stdout",
     "output_type": "stream",
     "text": [
      "Ensemble model accuracy: 0.884375\n",
      "              precision    recall  f1-score   support\n",
      "\n",
      "           0       0.90      0.97      0.93       267\n",
      "           1       0.80      0.52      0.63        46\n",
      "           2       0.25      0.14      0.18         7\n",
      "\n",
      "    accuracy                           0.88       320\n",
      "   macro avg       0.65      0.54      0.58       320\n",
      "weighted avg       0.87      0.88      0.87       320\n",
      "\n"
     ]
    }
   ],
   "source": [
    "print(f\"Ensemble model accuracy: {accuracy_score(np.argmax(y_test, axis=1), y_pred_stack)}\")\n",
    "print(classification_report(np.argmax(y_test, axis=1), y_pred_stack))"
   ]
  }
 ],
 "metadata": {
  "kernelspec": {
   "display_name": "Python 3",
   "language": "python",
   "name": "python3"
  },
  "language_info": {
   "codemirror_mode": {
    "name": "ipython",
    "version": 3
   },
   "file_extension": ".py",
   "mimetype": "text/x-python",
   "name": "python",
   "nbconvert_exporter": "python",
   "pygments_lexer": "ipython3",
   "version": "3.9.8"
  }
 },
 "nbformat": 4,
 "nbformat_minor": 2
}
